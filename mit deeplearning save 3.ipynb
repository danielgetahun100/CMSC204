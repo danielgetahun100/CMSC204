{
  "nbformat": 4,
  "nbformat_minor": 0,
  "metadata": {
    "colab": {
      "provenance": [],
      "authorship_tag": "ABX9TyNPQxuicRuT1TrTYjly0lhg",
      "include_colab_link": true
    },
    "kernelspec": {
      "name": "python3",
      "display_name": "Python 3"
    },
    "language_info": {
      "name": "python"
    }
  },
  "cells": [
    {
      "cell_type": "markdown",
      "metadata": {
        "id": "view-in-github",
        "colab_type": "text"
      },
      "source": [
        "<a href=\"https://colab.research.google.com/github/danielgetahun100/CMSC204/blob/master/mit%20deeplearning%20save%203.ipynb\" target=\"_parent\"><img src=\"https://colab.research.google.com/assets/colab-badge.svg\" alt=\"Open In Colab\"/></a>"
      ]
    },
    {
      "cell_type": "code",
      "execution_count": 20,
      "metadata": {
        "colab": {
          "base_uri": "https://localhost:8080/"
        },
        "id": "A33Ed7fuqIkn",
        "outputId": "bf10b3a4-fa15-4e8f-ed46-78b028c109e1"
      },
      "outputs": [
        {
          "output_type": "stream",
          "name": "stdout",
          "text": [
            "'bull' has rank 2 \n",
            "Rank is [ 10 256 256   3] \n",
            "'row vector': [1. 2. 3.]\n",
            "'column_vector': [2. 5. 8.]\n",
            "'scalar': 9.0\n",
            "tf.Tensor(76, shape=(), dtype=int32)\n",
            "tf.Tensor(76, shape=(), dtype=int32)\n",
            "tf.Tensor(6.0, shape=(), dtype=float32)\n",
            "[[0.27064407 0.18269512 0.50374055]]\n",
            "[PASS] test_custom_dense_layer_output\n",
            "tf.Tensor([[0.18752207 0.23909676 0.3213029 ]], shape=(1, 3), dtype=float32)\n",
            "Rando:  tf.Tensor([0.16513085 0.9014813  0.6309742 ], shape=(3,), dtype=float32)\n"
          ]
        }
      ],
      "source": [
        "import tensorflow as tf\n",
        "\n",
        "# Download and import the MIT Introduction to Deep Learning package\n",
        "!pip install mitdeeplearning --quiet\n",
        "import mitdeeplearning as mdl\n",
        "\n",
        "import numpy as np\n",
        "import matplotlib.pyplot as plt\n",
        "\n",
        "#import relevant packages\n",
        "from tensorflow.keras import Sequential\n",
        "from tensorflow.keras.layers import Dense\n",
        "\n",
        "matrix= tf.constant([[1, 2, 3],\n",
        "                   [4, 5, 6],\n",
        "                   [7, 8, 9]],tf.float32)\n",
        "print(\"'bull' has rank {} \".format(tf.rank(matrix)))\n",
        "\n",
        "shit=tf.zeros([10,256,256,3])\n",
        "\n",
        "assert tf.rank(shit).numpy()==4, \"Matrix must be of rank 4\"\n",
        "print(\"Rank is {} \".format(tf.shape(shit).numpy()))\n",
        "\n",
        "row_vector= matrix[0]\n",
        "column_vector=matrix[:,1]\n",
        "scalar=matrix[2,2]\n",
        "\n",
        "print(\"'row vector': {}\".format(row_vector.numpy()))\n",
        "print(\"'column_vector': {}\".format(column_vector.numpy()))\n",
        "print(\"'scalar': {}\".format(scalar.numpy()))\n",
        "\n",
        "\n",
        "a1=tf.constant(15)\n",
        "b1=tf.constant(61)\n",
        "\n",
        "c1=tf.add(a1,b1)\n",
        "c2=a1+b1\n",
        "\n",
        "print(c1)\n",
        "print(c2)\n",
        "\n",
        "#Defining tensor computaion\n",
        "\n",
        "def func(a,b):\n",
        "  c=tf.add(a,b)\n",
        "  d=tf.subtract(b,1)\n",
        "  e=tf.multiply(c,d)\n",
        "\n",
        "  return e\n",
        "\n",
        "#Example computaion\n",
        "a,b=1.5, 2.5\n",
        "e_out=func(a,b)\n",
        "print(e_out)\n",
        "\n",
        "##defining a network layer\n",
        "\n",
        "class OurDenseLayer(tf.keras.layers.Layer):\n",
        "    def __init__(self, n_output_nodes):\n",
        "      super(OurDenseLayer, self).__init__()\n",
        "      self.n_output_nodes = n_output_nodes\n",
        "\n",
        "    def build(self,input_shape):\n",
        "      d=int(input_shape[-1])\n",
        "\n",
        "      self.W=self.add_weight(name=\"weight\", shape=[d, self.n_output_nodes])\n",
        "      self.b= self.add_weight(name=\"bias\", shape=[1, self.n_output_nodes])\n",
        "    def call(self, x):\n",
        "      z=tf.matmul(x,self.W)+self.b\n",
        "\n",
        "      y=tf.sigmoid(z)\n",
        "\n",
        "      return y\n",
        "\n",
        "tf.keras.utils.set_random_seed(1)\n",
        "layer = OurDenseLayer(3)\n",
        "layer.build((1,2))\n",
        "x_input = tf.constant([[1,2.]], shape=(1,2))\n",
        "y= layer.call(x_input)\n",
        "\n",
        "print(y.numpy())\n",
        "mdl.lab1.test_custom_dense_layer_output(y)\n",
        "\n",
        "##sequential model\n",
        "\n",
        "\n",
        "n_output_nodes= 3\n",
        "\n",
        "model = Sequential()\n",
        "\n",
        "dense_layer=Dense(n_output_nodes,activation=\"sigmoid\",use_bias=True,input_shape=(2,))\n",
        "\n",
        "model.add(dense_layer)\n",
        "\n",
        "\n",
        "\n",
        "\n",
        "\n",
        "#Test model with example input\n",
        "\n",
        "x_input = tf.constant([[1,2.]], shape=(1,2))\n",
        "\n",
        "'''TODO: feed input into the model and predict the output!'''\n",
        "model_output = model(x_input)\n",
        "print(model_output)\n",
        "\n",
        "\n",
        "\n",
        "\n",
        "\n",
        "\n",
        "\n",
        "\n"
      ]
    },
    {
      "cell_type": "code",
      "source": [],
      "metadata": {
        "id": "3794XaMFSrlO"
      },
      "execution_count": null,
      "outputs": []
    }
  ]
}